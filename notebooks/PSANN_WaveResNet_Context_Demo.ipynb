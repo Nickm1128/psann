{
 "cells": [
  {
   "cell_type": "markdown",
   "id": "ee220d02",
   "metadata": {},
   "source": [
    "# WaveResNetRegressor with Context\n",
    "This notebook demonstrates two ways to provide context to the `WaveResNetRegressor` while keeping the input pipeline in `float32`.\n",
    "1. Passing context arrays directly during `fit`/`predict` (ensure arrays are `np.float32`).\n",
    "2. Using the built-in cosine context builder to derive contextual features automatically; calling `set_params` on context options resets the cached builder.\n"
   ]
  },
  {
   "cell_type": "markdown",
   "id": "e2d5d655",
   "metadata": {},
   "source": [
    "## Imports\n",
    "We import NumPy for data generation, Matplotlib for quick visualisation, scikit-learn utilities for train/test splits and metrics, and finally `WaveResNetRegressor` from `psann.sklearn`.\n"
   ]
  },
  {
   "cell_type": "code",
   "execution_count": null,
   "id": "9cb9eb91",
   "metadata": {},
   "outputs": [],
   "source": [
    "import numpy as np\n",
    "import matplotlib.pyplot as plt\n",
    "from sklearn.metrics import mean_squared_error\n",
    "from sklearn.model_selection import train_test_split\n",
    "\n",
    "from psann import WaveResNetRegressor\n"
   ]
  },
  {
   "cell_type": "markdown",
   "metadata": {},
   "source": [
    "## Synthetic dataset\n",
    "We generate a sinusoidal signal where the phase offset is treated as contextual information. The model receives four primary features (sine and cosine terms at two frequencies) and two context features (sine/cosine of the phase).\n"
   ]
  },
  {
   "cell_type": "code",
   "execution_count": null,
   "metadata": {},
   "outputs": [],
   "source": [
    "rng = np.random.default_rng(7)\n",
    "n_samples = 2000\n",
    "t = rng.uniform(0, 6 * np.pi, size=(n_samples, 1)).astype(np.float32)\n",
    "phase = rng.uniform(-np.pi, np.pi, size=(n_samples, 1)).astype(np.float32)\n",
    "\n",
    "X = np.concatenate([\n",
    "    np.sin(t),\n",
    "    np.cos(t),\n",
    "    np.sin(0.5 * t),\n",
    "    np.cos(0.5 * t),\n",
    "], axis=1).astype(np.float32)\n",
    "\n",
    "context = np.concatenate([np.sin(phase), np.cos(phase)], axis=1).astype(np.float32)\n",
    "signal = np.sin(t + phase) + 0.3 * np.sin(0.5 * t - 0.5 * phase)\n",
    "y = signal.reshape(-1).astype(np.float32)\n",
    "y += 0.05 * rng.standard_normal(size=y.shape).astype(np.float32)\n",
    "\n",
    "X_train, X_test, ctx_train, ctx_test, y_train, y_test = train_test_split(\n",
    "    X, context, y, test_size=0.25, random_state=42\n",
    ")\n"
   ]
  },
  {
   "cell_type": "markdown",
   "metadata": {},
   "source": [
    "## Training with explicit context\n",
    "We supply the context arrays directly to `fit` and `predict`.\n"
   ]
  },
  {
   "cell_type": "code",
   "execution_count": null,
   "metadata": {},
   "outputs": [],
   "source": [
    "explicit_est = WaveResNetRegressor(\n",
    "    hidden_layers=4,\n",
    "    hidden_width=64,\n",
    "    epochs=150,\n",
    "    batch_size=128,\n",
    "    lr=3e-3,\n",
    "    context_dim=2,\n",
    "    random_state=0,\n",
    "    early_stopping=True,\n",
    "    patience=20,\n",
    ")\n",
    "explicit_est.fit(X_train, y_train, context=ctx_train)\n",
    "\n",
    "pred_exp = explicit_est.predict(X_test, context=ctx_test)\n",
    "mse_exp = mean_squared_error(y_test, pred_exp)\n",
    "print(f\"Explicit context MSE: {mse_exp:.4f}\")\n"
   ]
  },
  {
   "cell_type": "markdown",
   "metadata": {},
   "source": [
    "### Quick visual check\n",
    "The scatter plot compares predictions against targets for a sample subset.\n"
   ]
  },
  {
   "cell_type": "code",
   "execution_count": null,
   "metadata": {},
   "outputs": [],
   "source": [
    "subset = slice(0, 200)\n",
    "fig, ax = plt.subplots(figsize=(5, 5))\n",
    "ax.scatter(y_test[subset], pred_exp[subset], alpha=0.6, label=\"Explicit context\")\n",
    "ax.plot([-2, 2], [-2, 2], color=\"tab:red\", linestyle=\"--\", linewidth=1)\n",
    "ax.set_xlabel(\"Target\")\n",
    "ax.set_ylabel(\"Prediction\")\n",
    "ax.set_title(\"WaveResNetRegressor with explicit context\")\n",
    "ax.legend()\n",
    "ax.grid(True, linestyle=\":\")\n",
    "plt.show()\n"
   ]
  },
  {
   "cell_type": "markdown",
   "metadata": {},
   "source": [
    "## Training with automatic cosine context\n",
    "Here we let the estimator derive contextual features from the primary inputs using the cosine context builder.\n"
   ]
  },
  {
   "cell_type": "code",
   "execution_count": null,
   "metadata": {},
   "outputs": [],
   "source": [
    "auto_est = WaveResNetRegressor(\n",
    "    hidden_layers=4,\n",
    "    hidden_width=64,\n",
    "    epochs=150,\n",
    "    batch_size=128,\n",
    "    lr=3e-3,\n",
    "    context_builder=\"cosine\",\n",
    "    context_builder_params={\"frequencies\": [1.0, 2.0], \"include_sin\": True, \"include_cos\": True},\n",
    "    random_state=0,\n",
    "    early_stopping=True,\n",
    "    patience=20,\n",
    ")\n",
    "auto_est.fit(X_train, y_train)\n",
    "\n",
    "pred_auto = auto_est.predict(X_test)\n",
    "mse_auto = mean_squared_error(y_test, pred_auto)\n",
    "print(f\"Cosine builder MSE: {mse_auto:.4f}\")\n",
    "print(f\"Learned context_dim: {auto_est.context_dim}\")\n"
   ]
  },
  {
   "cell_type": "markdown",
   "metadata": {},
   "source": [
    "## Comparison\n",
    "Both approaches leverage context, either provided manually or generated automatically. The cosine builder offers a quick way to add frequency-encoded context without crafting arrays by hand.\n"
   ]
  }
 ],
 "metadata": {
  "kernelspec": {
   "display_name": "Python 3",
   "language": "python",
   "name": "python3"
  },
  "language_info": {
   "name": "python",
   "version": "3.11"
  }
 },
 "nbformat": 4,
 "nbformat_minor": 5
}
