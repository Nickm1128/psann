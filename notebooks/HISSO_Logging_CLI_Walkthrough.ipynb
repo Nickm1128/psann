{
 "cells": [
  {
   "cell_type": "markdown",
   "metadata": {},
   "source": [
    "# HISSO Logging CLI Walkthrough (CPU-first Draft)\n",
    "\n",
    "> Draft version prepared while GPU access is unavailable. Update the TODO sections once the remote CUDA sweep finishes."
   ]
  },
  {
   "cell_type": "markdown",
   "metadata": {},
   "source": [
    "## Goals\n",
    "\n",
    "- Run the HISSO logging CLI end-to-end on CPU so we can validate configs and artifact layouts locally.\n",
    "- Capture the exact command line, expected outputs, and troubleshooting tips for the Colab companion copy.\n",
    "- Leave clearly marked placeholders where GPU-derived metrics and screenshots will be inserted after the accelerator run."
   ]
  },
  {
   "cell_type": "markdown",
   "metadata": {},
   "source": [
    "## Environment prep\n",
    "\n",
    "1. Clone the repository (or install the `psann` wheel once the cleanup branch ships).\n",
    "2. Ensure the datasets referenced by your chosen config are staged; the smoke templates expect CPU-scale subsets under `datasets/`.\n",
    "3. Activate the project virtual environment (`python -m venv .venv && .venv\\\\Scripts\\\\activate` on Windows, `source .venv/bin/activate` elsewhere).\n",
    "4. Install dependencies: `pip install -e .[dev]`."
   ]
  },
  {
   "cell_type": "code",
   "execution_count": null,
   "metadata": {
    "tags": [
     "parameters"
    ]
   },
   "outputs": [],
   "source": [
    "# Example CPU smoke run (replace output directory as needed)\n",
    "from datetime import datetime\n",
    "\n",
    "run_name = f\"dense_cpu_smoke_{datetime.now().strftime('%Y%m%d_%H%M%S')}\"\n",
    "\n",
    "!python -m psann.scripts.hisso_log_run \\\n",
    "    --config configs/hisso/dense_cpu_smoke.yaml \\\n",
    "    --output-dir runs/hisso/dense_cpu_smoke_dev \\\n",
    "    --device cpu \\\n",
    "    --run-name {run_name} \\\n",
    "    --seed 7"
   ]
  },
  {
   "cell_type": "markdown",
   "metadata": {},
   "source": [
    "## Expected outputs\n",
    "\n",
    "- `metrics.json`: CPU metrics (loss curves, reward aggregates, throughput stats). **TODO:** replace with GPU metrics table and commentary after remote run.\n",
    "- `events.csv`: Per-epoch log including optimiser state, dataloader timings, and shuffle policy.\n",
    "- `checkpoints/`: Best estimator checkpoint plus optional intermediate snapshots when `--keep-checkpoints` is provided.\n",
    "- `config_resolved.yaml`: Fully materialised config for reproducibility notes.\n",
    "\n",
    "> TODO: Capture screenshots / table snippets from the GPU sweep and embed them here."
   ]
  },
  {
   "cell_type": "markdown",
   "metadata": {},
   "source": [
    "## Colab companion (draft copy)\n",
    "\n",
    "1. Open this notebook in Google Colab using the badge in `notebooks/README.md`.\n",
    "2. Run the setup cell below (adds `psann` editable install and any config deps).\n",
    "3. Mount Drive (or point `OUTPUT_ROOT` to `/content`) so artifacts persist between sessions.\n",
    "4. Execute the CLI command cell; expect ~5-7 minutes on CPU runtimes. **TODO:** update with wall-clock timings from CUDA run once available."
   ]
  },
  {
   "cell_type": "code",
   "execution_count": null,
   "metadata": {},
   "outputs": [],
   "source": [
    "# Colab setup placeholder\n",
    "# TODO: insert pip install / git clone commands once GPU metrics are collected and verified.\n",
    "raise NotImplementedError(\"Populate Colab setup steps after remote GPU validation\")"
   ]
  }
 ],
 "metadata": {
  "kernelspec": {
   "display_name": "Python 3",
   "language": "python",
   "name": "python3"
  },
  "language_info": {
   "name": "python",
   "version": "3.11"
  }
 },
 "nbformat": 4,
 "nbformat_minor": 5
}
